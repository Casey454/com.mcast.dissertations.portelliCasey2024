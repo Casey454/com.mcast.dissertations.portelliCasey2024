{
 "cells": [
  {
   "cell_type": "markdown",
   "metadata": {},
   "source": [
    "# Title of your dissertation\n",
    "\n",
    "Describe the problem or aim of this research and of this specific experiment. \n",
    "\n",
    "## Data set\n",
    "\n",
    "Specify which dataset you will be using, provide a link to it, identify the license. When and where was the dataset collected? Why have you opted for this dataset? Are there alternative datasets?\n",
    "\n",
    "## Market Basket Analysis\n",
    "\n",
    "Desribe what MBA is and why it is important. What techniques are going to be used, such as associations/disaccociations, Zhang's metric and more.\n",
    "\n",
    "## Metrics\n",
    "\n",
    "Document the metrics that shall be considered such as lift, confidence, support. "
   ]
  },
  {
   "cell_type": "markdown",
   "metadata": {},
   "source": [
    "# Experiment\n",
    "\n",
    "Document the experiment plan (research pipeline).\n",
    "\n",
    "## Data acquisition\n",
    "\n",
    "Document how you got the dataset (through Kaggle, etc.)"
   ]
  },
  {
   "cell_type": "code",
   "execution_count": null,
   "metadata": {},
   "outputs": [],
   "source": [
    "# Load libraries\n",
    "\n",
    "# Load dataset\n",
    "\n",
    "# Preview structure"
   ]
  },
  {
   "cell_type": "code",
   "execution_count": null,
   "metadata": {},
   "outputs": [],
   "source": [
    "# Preview first few rows"
   ]
  },
  {
   "cell_type": "code",
   "execution_count": null,
   "metadata": {},
   "outputs": [],
   "source": [
    "# Preview last few rows"
   ]
  },
  {
   "cell_type": "markdown",
   "metadata": {},
   "source": [
    "Provide a description of initial observations about the data."
   ]
  },
  {
   "cell_type": "markdown",
   "metadata": {},
   "source": [
    "## Data exploration"
   ]
  },
  {
   "cell_type": "code",
   "execution_count": null,
   "metadata": {},
   "outputs": [],
   "source": [
    "# Any data transformation needed prior to further analysis, if none are needed do not worry, remove this cell"
   ]
  },
  {
   "cell_type": "code",
   "execution_count": null,
   "metadata": {},
   "outputs": [],
   "source": [
    "# Statistical overview"
   ]
  },
  {
   "cell_type": "code",
   "execution_count": null,
   "metadata": {},
   "outputs": [],
   "source": [
    "# Visual analysis depending on dataset, such as frequency plots for products, top 20 products\n"
   ]
  },
  {
   "cell_type": "markdown",
   "metadata": {},
   "source": [
    "Provide a description of observations made. Note any changes to data that need to be made"
   ]
  },
  {
   "cell_type": "markdown",
   "metadata": {},
   "source": [
    "## Data transformations\n",
    "\n",
    "Add markdown and code cells as needed to document the changes made, such as one-hot-encoding, removal of any attributes, changing of data types."
   ]
  },
  {
   "cell_type": "markdown",
   "metadata": {},
   "source": [
    "## Data analysis\n",
    "\n",
    "Calculate support, confidence, lift, conviction, leverage, association/disaccosiation rules and Zhang's metric"
   ]
  },
  {
   "cell_type": "code",
   "execution_count": null,
   "metadata": {},
   "outputs": [],
   "source": []
  },
  {
   "cell_type": "markdown",
   "metadata": {},
   "source": [
    "Analyse the output of this section for all products and document everything."
   ]
  },
  {
   "cell_type": "markdown",
   "metadata": {},
   "source": [
    "## Market basket analysis\n",
    "\n",
    "Follow the steps in marketBasketAnalysis02.ipynb from Overview of Market Basket Analysis onwards"
   ]
  },
  {
   "cell_type": "markdown",
   "metadata": {},
   "source": [
    "## Conclusion and recommendations"
   ]
  }
 ],
 "metadata": {
  "language_info": {
   "name": "python"
  }
 },
 "nbformat": 4,
 "nbformat_minor": 2
}
